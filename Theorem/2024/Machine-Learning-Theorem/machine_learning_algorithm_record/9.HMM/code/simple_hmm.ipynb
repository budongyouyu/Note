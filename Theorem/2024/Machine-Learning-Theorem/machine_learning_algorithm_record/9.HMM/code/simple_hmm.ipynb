{
 "cells": [
  {
   "cell_type": "code",
   "execution_count": 2,
   "metadata": {},
   "outputs": [
    {
     "name": "stdout",
     "output_type": "stream",
     "text": [
      "S\n",
      "S\n",
      "S\n",
      "S\n",
      "S\n",
      "S\n",
      "S\n",
      "S\n",
      "S\n",
      "S\n",
      "S\n",
      "S\n",
      "S\n",
      "S\n"
     ]
    }
   ],
   "source": [
    "import numpy as np\n",
    "\n",
    "# 示例 HMM 模型的初始参数（实际应用中需要通过训练数据来估计）\n",
    "states = ['B', 'M', 'E', 'S']\n",
    "observations = ['我', '们', '即', '将', '以', '丰', '收', '的', '喜', '悦', '送', '走', '牛', '年']\n",
    "\n",
    "# 初始概率（示例值）\n",
    "start_prob = {'B': 0.5, 'M': 0.0, 'E': 0.0, 'S': 0.5}\n",
    "\n",
    "# 状态转移概率（示例值）\n",
    "transition_prob = {\n",
    "    'B': {'B': 0, 'M': 0.5, 'E': 0.5, 'S': 0},\n",
    "    'M': {'B': 0, 'M': 0.5, 'E': 0.5, 'S': 0},\n",
    "    'E': {'B': 0.5, 'M': 0, 'E': 0, 'S': 0.5},\n",
    "    'S': {'B': 0.5, 'M': 0, 'E': 0, 'S': 0.5}\n",
    "}\n",
    "\n",
    "# 发射概率（示例值）\n",
    "emission_prob = {\n",
    "    'B': {'我': 0.1, '们': 0.1, '即': 0.1, '将': 0.1, '以': 0.1, '丰': 0.1, '收': 0.1, '的': 0.1, '喜': 0.1, '悦': 0.1, '送': 0.1, '走': 0.1, '牛': 0.1, '年': 0.1},\n",
    "    'M': {'我': 0.1, '们': 0.1, '即': 0.1, '将': 0.1, '以': 0.1, '丰': 0.1, '收': 0.1, '的': 0.1, '喜': 0.1, '悦': 0.1, '送': 0.1, '走': 0.1, '牛': 0.1, '年': 0.1},\n",
    "    'E': {'我': 0.1, '们': 0.1, '即': 0.1, '将': 0.1, '以': 0.1, '丰': 0.1, '收': 0.1, '的': 0.1, '喜': 0.1, '悦': 0.1, '送': 0.1, '走': 0.1, '牛': 0.1, '年': 0.1},\n",
    "    'S': {'我': 0.1, '们': 0.1, '即': 0.1, '将': 0.1, '以': 0.1, '丰': 0.1, '收': 0.1, '的': 0.1, '喜': 0.1, '悦': 0.1, '送': 0.1, '走': 0.1, '牛': 0.1, '年': 0.1}\n",
    "}\n",
    "\n",
    "# Viterbi算法寻找最可能的状态序列\n",
    "def viterbi(obs, states, start_prob, transition_prob, emission_prob):\n",
    "    V = [{}]\n",
    "    path = {}\n",
    "\n",
    "    # Initialize base cases (t == 0)\n",
    "    for state in states:\n",
    "        V[0][state] = start_prob[state] * emission_prob[state].get(obs[0], 0)\n",
    "        path[state] = [state]\n",
    "\n",
    "    # Run Viterbi for t > 0\n",
    "    for t in range(1, len(obs)):\n",
    "        V.append({})\n",
    "        new_path = {}\n",
    "\n",
    "        for y in states:\n",
    "            (prob, state) = max(\n",
    "                (V[t-1][y0] * transition_prob[y0].get(y, 0) * emission_prob[y].get(obs[t], 0), y0)\n",
    "                for y0 in states\n",
    "            )\n",
    "            V[t][y] = prob\n",
    "            new_path[y] = path[state] + [y]\n",
    "\n",
    "        path = new_path\n",
    "\n",
    "    # Return the most likely sequence\n",
    "    (prob, state) = max((V[len(obs) - 1][y], y) for y in states)\n",
    "    return (prob, path[state])\n",
    "\n",
    "# 示例文本\n",
    "observed_sequence = list(\"我们即将以丰收的喜悦送走牛年\")\n",
    "\n",
    "# 使用 HMM 进行分词\n",
    "prob, state_sequence = viterbi(observed_sequence, states, start_prob, transition_prob, emission_prob)\n",
    "\n",
    "# 输出最可能的状态序列\n",
    "#print(state_sequence())\n",
    "for sq in state_sequence:\n",
    "    print(emission_prob[sq])\n"
   ]
  }
 ],
 "metadata": {
  "kernelspec": {
   "display_name": "d2l",
   "language": "python",
   "name": "python3"
  },
  "language_info": {
   "codemirror_mode": {
    "name": "ipython",
    "version": 3
   },
   "file_extension": ".py",
   "mimetype": "text/x-python",
   "name": "python",
   "nbconvert_exporter": "python",
   "pygments_lexer": "ipython3",
   "version": "3.10.14"
  }
 },
 "nbformat": 4,
 "nbformat_minor": 2
}

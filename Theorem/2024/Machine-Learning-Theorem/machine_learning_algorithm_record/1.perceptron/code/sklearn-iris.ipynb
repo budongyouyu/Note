{
 "cells": [
  {
   "cell_type": "code",
   "execution_count": 1,
   "metadata": {},
   "outputs": [],
   "source": [
    "import pandas as pd\n",
    "import numpy as np\n",
    "from sklearn.datasets import load_iris\n",
    "from sklearn.linear_model import Perceptron\n",
    "import matplotlib.pyplot as plt"
   ]
  },
  {
   "cell_type": "markdown",
   "metadata": {},
   "source": [
    "sepal表示花萼，petal表示花瓣"
   ]
  },
  {
   "cell_type": "code",
   "execution_count": null,
   "metadata": {},
   "outputs": [],
   "source": [
    "# 处理数据\n",
    "iris = load_iris()\n",
    "data = pd.DataFrame(iris.data,columns=iris.feature_names)\n",
    "data"
   ]
  },
  {
   "cell_type": "markdown",
   "metadata": {},
   "source": [
    "DataFrame 是 pandas 中最重要的数据结构之一，类似于 Excel 表格或 SQL 表。DataFrame 可以包含多种类型的数据，包括整数、浮点数、字符串等，并且可以轻松地进行数据操作和分析。"
   ]
  },
  {
   "cell_type": "code",
   "execution_count": null,
   "metadata": {},
   "outputs": [],
   "source": [
    "data['label'] = iris.target #标签值\n",
    "data.columns = ['sepal length', 'sepal width', 'petal length', 'petal width', 'label']\n",
    "print(data.head(4))"
   ]
  },
  {
   "cell_type": "markdown",
   "metadata": {},
   "source": [
    "\n",
    "这个代码看起来像是在Python中使用了Scikit-learn库来处理鸢尾花（iris）数据集。假设 data 是一个包含鸢尾花数据的DataFrame或类似的数据结构，而 iris.target 包含了鸢尾花数据集中每个样本的类别标签。\n",
    "\n",
    "这行代码的作用是将 iris.target 中的类别标签赋值给 data 中的一个名为 label 的新列。这样就将样本的类别信息添加到了数据集中，可以用于后续的分类任务或者其他分析。"
   ]
  },
  {
   "cell_type": "code",
   "execution_count": null,
   "metadata": {},
   "outputs": [],
   "source": [
    "print(data['sepal length'].iloc[:50].head(4))"
   ]
  },
  {
   "cell_type": "markdown",
   "metadata": {},
   "source": [
    "iloc 是 pandas DataFrame 对象的一个属性，用于通过整数位置（即索引）进行选取和切片。它通常用于基于位置的索引，而不是基于标签的索引。具体来说，iloc 可以用于选择 DataFrame 中特定行和列的子集。"
   ]
  },
  {
   "cell_type": "code",
   "execution_count": null,
   "metadata": {},
   "outputs": [],
   "source": [
    "# 图示\n",
    "plt.scatter(data['sepal length'].iloc[:50], data['sepal width'].iloc[:50], label='postive')\n",
    "plt.scatter(data['sepal length'].iloc[50:100], data['sepal width'].iloc[50:100], label='negtive')\n",
    "\n",
    "#设置标签\n",
    "plt.xlabel('sepal length')\n",
    "plt.ylabel('sepal width')\n",
    "\n",
    "#设置图例\n",
    "plt.legend()\n",
    "\n",
    "plt.show()"
   ]
  },
  {
   "cell_type": "markdown",
   "metadata": {},
   "source": [
    "## 利用sklearn的感知机进行处理"
   ]
  },
  {
   "cell_type": "code",
   "execution_count": null,
   "metadata": {},
   "outputs": [],
   "source": [
    "x_train = np.array(data.iloc[:90,[0,1]])\n",
    "y_train = np.array(data.iloc[:90,-1])\n",
    "\n",
    "perceptron = Perceptron()\n",
    "perceptron.fit(x_train,y_train)\n",
    "print('w:',perceptron.coef_,'\\n','b:',perceptron.intercept_,'\\n','迭代次数:',perceptron.n_iter_)\n",
    "\n",
    "# 评判模型\n",
    "res = perceptron.score(x_train, y_train)\n",
    "print('成功率:{:.0%}'.format(res))"
   ]
  },
  {
   "cell_type": "code",
   "execution_count": null,
   "metadata": {},
   "outputs": [],
   "source": [
    "# 图示\n",
    "x_plot = np.linspace(4, 7,10)\n",
    "y_plot = -(perceptron.coef_[0][0]*x_plot+perceptron.intercept_[0])/perceptron.coef_[0][1]   # 模型方程\n",
    "plt.plot(x_plot,y_plot)\n",
    "\n",
    "plt.scatter(data['sepal length'].iloc[:50], data['sepal width'].iloc[:50], label='0')\n",
    "plt.scatter(data['sepal length'].iloc[50:100], data['sepal width'].iloc[50:100], label='1')\n",
    "#设置标签\n",
    "plt.xlabel('sepal length')\n",
    "plt.ylabel('sepal width')\n",
    "\n",
    "#设置图例\n",
    "plt.legend()\n",
    "\n",
    "plt.show()"
   ]
  },
  {
   "cell_type": "markdown",
   "metadata": {},
   "source": [
    "## Perceptron algorithm design"
   ]
  },
  {
   "cell_type": "markdown",
   "metadata": {},
   "source": [
    "   '所有员工的基类'\n",
    "   empCount = 0\n",
    " \n",
    "   def __init__(self, name, salary):\n",
    "      self.name = name\n",
    "      self.salary = salary\n",
    "      Employee.empCount += 1\n",
    "   \n",
    "   def displayCount(self):\n",
    "     print \"Total Employee %d\" % Employee.empCount\n",
    " \n",
    "   def displayEmployee(self):\n",
    "      print \"Name : \", self.name,  \", Salary: \", self.salary"
   ]
  },
  {
   "cell_type": "code",
   "execution_count": null,
   "metadata": {},
   "outputs": [],
   "source": [
    "class myPerceptorn:\n",
    "    def __init__(self):\n",
    "        self.w = None\n",
    "        self.b = 0\n",
    "        self.l_late = 1\n",
    "    \n",
    "    # 算法主函数\n",
    "    def fit(self,x_trian,y_trian):\n",
    "        self.w=np.zeros(x_trian.shape[1])#shape 方法通常用于获取数组或矩阵的形状（维度），主要用于 NumPy 库中的数组对象。\n",
    "        i = 0\n",
    "\n",
    "        while i < x_trian.shape[0]:\n",
    "            x = x_trian[i]\n",
    "            y = y_trian[i]\n",
    "            # 判断其所以点是否都没有误分类，如有更新w,b,重新判断\n",
    "            if y*(np.dot(self.w,x)+self.b)<=0:\n",
    "                self.w = self.w + self.l_late*np.dot(x,y)\n",
    "                self.b = self.b+self.l_late*y\n",
    "                i = 0\n",
    "            else:\n",
    "                i += 1\n",
    "\n"
   ]
  },
  {
   "cell_type": "code",
   "execution_count": null,
   "metadata": {},
   "outputs": [],
   "source": [
    "# 图示\n",
    "x_plot = np.linspace(4, 7,10)\n",
    "y_plot = -(perceptron.coef_[0][0]*x_plot+perceptron.intercept_[0])/perceptron.coef_[0][1]   # 模型方程\n",
    "plt.plot(x_plot,y_plot)\n",
    "\n",
    "plt.scatter(data['sepal length'].iloc[:50], data['sepal width'].iloc[:50], label='0')\n",
    "plt.scatter(data['sepal length'].iloc[50:100], data['sepal width'].iloc[50:100], label='1')\n",
    "#设置标签\n",
    "plt.xlabel('sepal length')\n",
    "plt.ylabel('sepal width')\n",
    "\n",
    "#设置图例\n",
    "plt.legend()\n",
    "\n",
    "plt.show()"
   ]
  },
  {
   "cell_type": "markdown",
   "metadata": {},
   "source": [
    "## Perceptron 实现逻辑运算"
   ]
  },
  {
   "cell_type": "code",
   "execution_count": null,
   "metadata": {},
   "outputs": [],
   "source": [
    "# 训练数据集准备\n"
   ]
  }
 ],
 "metadata": {
  "kernelspec": {
   "display_name": "Python 3",
   "language": "python",
   "name": "python3"
  },
  "language_info": {
   "codemirror_mode": {
    "name": "ipython",
    "version": 3
   },
   "file_extension": ".py",
   "mimetype": "text/x-python",
   "name": "python",
   "nbconvert_exporter": "python",
   "pygments_lexer": "ipython3",
   "version": "3.11.7"
  }
 },
 "nbformat": 4,
 "nbformat_minor": 2
}

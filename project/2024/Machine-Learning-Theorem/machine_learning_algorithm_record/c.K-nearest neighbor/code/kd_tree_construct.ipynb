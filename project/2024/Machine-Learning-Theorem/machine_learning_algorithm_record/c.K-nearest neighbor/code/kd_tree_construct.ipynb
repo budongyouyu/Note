{
 "cells": [
  {
   "cell_type": "code",
   "execution_count": 39,
   "metadata": {},
   "outputs": [],
   "source": [
    "import matplotlib.pyplot as plt\n",
    "import numpy as np\n",
    "\n",
    "class QuickSort(object):\n",
    "    \"Quick Sort to get medium number\"\n",
    "\n",
    "    def __init__(self, low, high, array):\n",
    "        self._array = array\n",
    "        self._low = low\n",
    "        self._high = high\n",
    "        self._medium = (low+high+1)//2 # python3中的整除\n",
    "\n",
    "    def get_medium_num(self):\n",
    "        return self.quick_sort_for_medium(self._low, self._high, \n",
    "                                          self._medium, self._array)\n",
    "\n",
    "    def quick_sort_for_medium(self, low, high, medium, array): #用快速排序来获取中位数\n",
    "        if high == low:\n",
    "            return array[low] # find medium\n",
    "        if high > low:\n",
    "            index, partition = self.sort_partition(low, high, array); \n",
    "            #print array[low:index], partition, array[index+1:high+1]\n",
    "            if index == medium:\n",
    "                return partition\n",
    "            if index > medium:\n",
    "                return self.quick_sort_for_medium(low, index-1, medium, array)\n",
    "            else:\n",
    "                return self.quick_sort_for_medium(index+1, high, medium, array)\n",
    "\n",
    "    def quick_sort(self, low, high, array):  #正常的快排\n",
    "        if high > low:\n",
    "            index, partition = self.sort_partition(low, high, array); \n",
    "            #print array[low:index], partition, array[index+1:high+1]\n",
    "            self.quick_sort(low, index-1, array)\n",
    "            self.quick_sort(index+1, high, array)\n",
    "\n",
    "    def sort_partition(self, low, high, array): # 用第一个数将数组里面的数分成两部分\n",
    "        index_i = low\n",
    "        index_j = high\n",
    "        partition = array[low]\n",
    "        while index_i < index_j:\n",
    "            while (index_i < index_j) and (array[index_j] >= partition):\n",
    "                index_j -= 1\n",
    "            if index_i < index_j:\n",
    "                array[index_i] = array[index_j]\n",
    "                index_i += 1\n",
    "            while (index_i < index_j) and (array[index_i] < partition):\n",
    "                index_i += 1\n",
    "            if index_i < index_j:\n",
    "                array[index_j] = array[index_i]\n",
    "                index_j -= 1\n",
    "        array[index_i] = partition\n",
    "        return index_i, partition"
   ]
  },
  {
   "cell_type": "markdown",
   "metadata": {},
   "source": [
    "## KD Tree Construction"
   ]
  },
  {
   "cell_type": "code",
   "execution_count": 40,
   "metadata": {},
   "outputs": [],
   "source": [
    "class KDTree(object):\n",
    "\n",
    "    def __init__(self, input_x, input_y):\n",
    "        self._input_x = np.array(input_x)\n",
    "        self._input_y = np.array(input_y)\n",
    "        (data_num, axes_num) = np.shape(self._input_x)\n",
    "        self._data_num = data_num\n",
    "        self._axes_num = axes_num\n",
    "        self._nearest = None  #用来存储最近的节点\n",
    "        return\n",
    "\n",
    "    def construct_kd_tree(self):\n",
    "        return self._construct_kd_tree(0, 0, self._input_x)\n",
    "\n",
    "    def _construct_kd_tree(self, depth, axes, data):\n",
    "        if not data.any():\n",
    "            return None\n",
    "        axes_data = data[:, axes].copy()\n",
    "        qs = QuickSort(0, axes_data.shape[0]-1, axes_data)\n",
    "        medium = qs.get_medium_num() #找到轴的中位数\n",
    "\n",
    "        data_list = []\n",
    "        left_data = []\n",
    "        right_data = []\n",
    "        data_range = range(np.shape(data)[0])\n",
    "        for i in data_range:   # 跟中位数相比较\n",
    "            if data[i][axes] == medium:  #相等\n",
    "                data_list.append(data[i])\n",
    "            elif data[i][axes] < medium: \n",
    "                left_data.append(data[i])\n",
    "            else:\n",
    "                right_data.append(data[i])\n",
    "\n",
    "        left_data = np.array(left_data)\n",
    "        right_data = np.array(right_data)\n",
    "        left = self._construct_kd_tree(depth+1, (axes+1)% self._axes_num, left_data)\n",
    "        right = self._construct_kd_tree(depth+1, (axes+1)% self._axes_num, right_data)\n",
    "        #[树的深度，轴，中位数，该节点的数据，左子树，右子树]\n",
    "        root = [depth, axes, medium, data_list, left, right] \n",
    "        return root\n",
    "\n",
    "    def print_kd_tree(self, root): #打印kd树\n",
    "        if root:\n",
    "            [depth, axes, medium, data_list, left, right] = root\n",
    "            print('{} {}'.format('    '*depth, data_list[0]))\n",
    "            if root[4]:\n",
    "                self.print_kd_tree(root[4])\n",
    "            if root[5]:\n",
    "                self.print_kd_tree(root[5])\n",
    "    def _get_distance(self, x1, x2): #计算两个向量之间的距离\n",
    "        x = x1-x2\n",
    "        return np.sqrt(np.inner(x, x))\n",
    "\n",
    "    def _search_leaf(self, stack, tree, target): #以tree为根节点，一直搜索到叶节点，并添加到stack中\n",
    "        travel_tree = tree\n",
    "        while travel_tree:\n",
    "            [depth, axes, medium, data_list, left, right] = travel_tree\n",
    "            if target[axes] >= medium:\n",
    "                next_node = right\n",
    "                next_direction = 'right' # 记录被访问过的子树的方向\n",
    "            elif target[axes] < medium:\n",
    "                next_node = left\n",
    "                next_direction = 'left' # 记录被访问过的子树的方向\n",
    "            stack.append([travel_tree, next_direction]) #保存方向，用来记录哪个子树被访问过\n",
    "            travel_tree = next_node\n",
    "\n",
    "    def _check_nearest(self, current, target): # 判断当前节点跟目标的距离\n",
    "        d = self._get_distance(current, target)\n",
    "        if self._nearest:\n",
    "            [node, distance] = self._nearest\n",
    "            if d < distance:\n",
    "                self._nearest = [current, d]\n",
    "        else:\n",
    "            self._nearest = [current, d]\n",
    "\n",
    "    def search_kd_tree(self, tree, target): #搜索kd树\n",
    "        stack = []\n",
    "        self._search_leaf(stack, tree, target) # 一直搜索到叶节点，并将路径入栈\n",
    "        self._nearest = []\n",
    "        while stack:\n",
    "            [[depth, axes, medium, data_list, left, right], next_direction] = stack.pop() #出栈\n",
    "            [data] = data_list\n",
    "            self._check_nearest(data, target) #检查当前节点的距离\n",
    "\n",
    "            if left is None and right is None: #如果当前节点为叶节点，继续下一个循环\n",
    "                continue\n",
    "            [node, distance] = self._nearest\n",
    "            if abs(data[axes] - node[axes]) < distance: #<*> 当前节点的轴经过圆\n",
    "                if next_direction == 'right': # 判断哪个方向被访问过，转向相反方向\n",
    "                    try_node = left\n",
    "                else:\n",
    "                    try_node = right\n",
    "                self._search_leaf(stack, try_node, target) #往相反的方向搜索叶节点\n",
    "        print(self._nearest)\n",
    "\n",
    "        def _check_nearest(self, current, target, k):\n",
    "            d = self._get_distance(current, target)\n",
    "            #print current, d\n",
    "            l = len(self._nearest)\n",
    "            if l < k:\n",
    "                self._nearest.append([current, d])\n",
    "            else:\n",
    "                farthest = self._get_farthest()[1]\n",
    "                if farthest > d:\n",
    "                    # 将最远的节点移除\n",
    "                    new_nearest = [i for i in self._nearest if i[1]<farthest ]\n",
    "                    new_nearest.append([current, d])\n",
    "                self._nearest = new_nearest\n",
    "\n",
    "        def _get_farthest(self): #获取list中最远的节点\n",
    "            farthest = None\n",
    "            for i in self._nearest:\n",
    "                if not farthest:\n",
    "                    farthest = i\n",
    "                else:\n",
    "                    if farthest[1] < i[1]:\n",
    "                        farthest = i\n",
    "            return farthest"
   ]
  },
  {
   "cell_type": "markdown",
   "metadata": {},
   "source": [
    "## 测试"
   ]
  },
  {
   "cell_type": "code",
   "execution_count": 41,
   "metadata": {},
   "outputs": [
    {
     "name": "stdout",
     "output_type": "stream",
     "text": [
      " [7 2]\n",
      "     [5 4]\n",
      "         [2 3]\n",
      "         [4 7]\n",
      "     [9 6]\n",
      "         [8 1]\n"
     ]
    }
   ],
   "source": [
    "input_x = [[2,3], [5,4], [9,6], [4,7], [8,1], [7,2]]\n",
    "input_y = [1, 1, 1, 1, 1, 1]\n",
    "kd = KDTree(input_x, input_y)\n",
    "tree = kd.construct_kd_tree()\n",
    "kd.print_kd_tree(tree)"
   ]
  },
  {
   "cell_type": "code",
   "execution_count": 47,
   "metadata": {},
   "outputs": [
    {
     "data": {
      "image/png": "[encoded data removed]",
      "text/plain": [
       "<Figure size 640x480 with 1 Axes>"
      ]
     },
     "metadata": {},
     "output_type": "display_data"
    }
   ],
   "source": [
    "#绘制样本点的散点分布图\n",
    "x = np.array([2, 5, 9, 4, 8, 7])\n",
    "y = np.array([3, 4, 6, 7, 1, 2])\n",
    "\n",
    "labels = ['[2,3]', '[5,4]', '[9,6]', '[4,7]', '[8,1]','[7,2]'] \n",
    "\n",
    "plt.figure() # 新建一个绘图\n",
    "\n",
    "# 为各个点添加标签  \n",
    "for i in range(len(labels)):  \n",
    "    plt.annotate(labels[i], (x[i], y[i])) \n",
    "\n",
    "plt.scatter(x, y)\n",
    "\n",
    "#添加空间划分线\n",
    "plt.axvline(x=7, label='x = 7', color='green', linestyle='--')\n",
    "\n",
    "\n",
    "plt.show()\n"
   ]
  },
  {
   "cell_type": "code",
   "execution_count": 43,
   "metadata": {},
   "outputs": [
    {
     "name": "stdout",
     "output_type": "stream",
     "text": [
      "[array([4, 7]), 0.0]\n"
     ]
    }
   ],
   "source": [
    "kd.search_kd_tree(tree,[4,7])"
   ]
  }
 ],
 "metadata": {
  "kernelspec": {
   "display_name": "tf2",
   "language": "python",
   "name": "python3"
  },
  "language_info": {
   "codemirror_mode": {
    "name": "ipython",
    "version": 3
   },
   "file_extension": ".py",
   "mimetype": "text/x-python",
   "name": "python",
   "nbconvert_exporter": "python",
   "pygments_lexer": "ipython3",
   "version": "3.1.undefined"
  }
 },
 "nbformat": 4,
 "nbformat_minor": 2
}
